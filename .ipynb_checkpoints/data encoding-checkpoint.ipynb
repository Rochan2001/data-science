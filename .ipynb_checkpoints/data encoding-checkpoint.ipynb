{
 "cells": [
  {
   "cell_type": "code",
   "execution_count": 2,
   "metadata": {},
   "outputs": [],
   "source": [
    "import pandas as pd\n",
    "import numpy as np\n",
    "data = pd.read_csv('loan.csv')"
   ]
  },
  {
   "cell_type": "code",
   "execution_count": 4,
   "metadata": {},
   "outputs": [
    {
     "name": "stdout",
     "output_type": "stream",
     "text": [
      "0     Fully Paid\n",
      "1     Fully Paid\n",
      "2     Fully Paid\n",
      "3     Fully Paid\n",
      "4     Fully Paid\n",
      "5    Charged Off\n",
      "6     Fully Paid\n",
      "7    Charged Off\n",
      "8     Fully Paid\n",
      "9     Fully Paid\n",
      "Name: Loan Status, dtype: object\n"
     ]
    }
   ],
   "source": [
    "loan_status=data['Loan Status']\n",
    "print(loan_status.head(10))"
   ]
  },
  {
   "cell_type": "code",
   "execution_count": 5,
   "metadata": {},
   "outputs": [],
   "source": [
    "car_status={\n",
    "    'Fully paid':1,\n",
    "    'Charged Off':0\n",
    "}\n",
    "loan_status.replace(car_status,inplace=True)"
   ]
  },
  {
   "cell_type": "code",
   "execution_count": 6,
   "metadata": {},
   "outputs": [
    {
     "name": "stdout",
     "output_type": "stream",
     "text": [
      "0    Fully Paid\n",
      "1    Fully Paid\n",
      "2    Fully Paid\n",
      "3    Fully Paid\n",
      "4    Fully Paid\n",
      "5             0\n",
      "Name: Loan Status, dtype: object\n"
     ]
    }
   ],
   "source": [
    "print(loan_status.head(6))"
   ]
  },
  {
   "cell_type": "code",
   "execution_count": 10,
   "metadata": {},
   "outputs": [
    {
     "name": "stdout",
     "output_type": "stream",
     "text": [
      "0        Home Mortgage\n",
      "1        Home Mortgage\n",
      "2             Own Home\n",
      "3             Own Home\n",
      "4                 Rent\n",
      "5        Home Mortgage\n",
      "6        Home Mortgage\n",
      "7        Home Mortgage\n",
      "8                 Rent\n",
      "9                 Rent\n",
      "10                Rent\n",
      "11       Home Mortgage\n",
      "12            Own Home\n",
      "13                Rent\n",
      "14                Rent\n",
      "15            Own Home\n",
      "16       Home Mortgage\n",
      "17       Home Mortgage\n",
      "18                Rent\n",
      "19       Home Mortgage\n",
      "20                Rent\n",
      "21                Rent\n",
      "22                Rent\n",
      "23       Home Mortgage\n",
      "24       Home Mortgage\n",
      "25                Rent\n",
      "26                Rent\n",
      "27       Home Mortgage\n",
      "28       Home Mortgage\n",
      "29       Home Mortgage\n",
      "             ...      \n",
      "99970    Home Mortgage\n",
      "99971             Rent\n",
      "99972             Rent\n",
      "99973    Home Mortgage\n",
      "99974             Rent\n",
      "99975             Rent\n",
      "99976         Own Home\n",
      "99977             Rent\n",
      "99978    Home Mortgage\n",
      "99979    Home Mortgage\n",
      "99980    Home Mortgage\n",
      "99981    Home Mortgage\n",
      "99982    Home Mortgage\n",
      "99983    Home Mortgage\n",
      "99984             Rent\n",
      "99985    Home Mortgage\n",
      "99986    Home Mortgage\n",
      "99987         Own Home\n",
      "99988    Home Mortgage\n",
      "99989    Home Mortgage\n",
      "99990             Rent\n",
      "99991             Rent\n",
      "99992    Home Mortgage\n",
      "99993    Home Mortgage\n",
      "99994    Home Mortgage\n",
      "99995         Own Home\n",
      "99996             Rent\n",
      "99997             Rent\n",
      "99998             Rent\n",
      "99999         Own Home\n",
      "Name: Home Ownership, Length: 100000, dtype: category\n",
      "Categories (4, object): [HaveMortgage, Home Mortgage, Own Home, Rent]\n"
     ]
    }
   ],
   "source": [
    "print(data['Home Ownership'])"
   ]
  },
  {
   "cell_type": "code",
   "execution_count": 13,
   "metadata": {},
   "outputs": [
    {
     "name": "stdout",
     "output_type": "stream",
     "text": [
      "0    Home Mortgage\n",
      "1    Home Mortgage\n",
      "2         Own Home\n",
      "3         Own Home\n",
      "4             Rent\n",
      "Name: Home Ownership, dtype: category\n",
      "Categories (4, object): [HaveMortgage, Home Mortgage, Own Home, Rent]\n"
     ]
    }
   ],
   "source": [
    "print(data['Home Ownership'].head())"
   ]
  },
  {
   "cell_type": "code",
   "execution_count": 14,
   "metadata": {},
   "outputs": [],
   "source": [
    "data['Home Ownership']=data['Home Ownership'].astype('category')\n",
    "df_one_hot=pd.get_dummies(data['Home Ownership'],prefix=['Home'])"
   ]
  },
  {
   "cell_type": "code",
   "execution_count": 12,
   "metadata": {},
   "outputs": [
    {
     "name": "stdout",
     "output_type": "stream",
     "text": [
      "   ['Home']_HaveMortgage  ['Home']_Home Mortgage  ['Home']_Own Home  \\\n",
      "0                      0                       1                  0   \n",
      "1                      0                       1                  0   \n",
      "2                      0                       0                  1   \n",
      "3                      0                       0                  1   \n",
      "4                      0                       0                  0   \n",
      "\n",
      "   ['Home']_Rent  \n",
      "0              0  \n",
      "1              0  \n",
      "2              0  \n",
      "3              0  \n",
      "4              1  \n"
     ]
    }
   ],
   "source": [
    "print(df_one_hot.head())"
   ]
  },
  {
   "cell_type": "code",
   "execution_count": 11,
   "metadata": {},
   "outputs": [
    {
     "name": "stdout",
     "output_type": "stream",
     "text": [
      "['Home']_HaveMortgage     0\n",
      "['Home']_Home Mortgage    0\n",
      "['Home']_Own Home         0\n",
      "['Home']_Rent             0\n",
      "dtype: int64\n"
     ]
    }
   ],
   "source": [
    "print(df_one_hot.isnull().sum())"
   ]
  },
  {
   "cell_type": "code",
   "execution_count": null,
   "metadata": {},
   "outputs": [],
   "source": []
  }
 ],
 "metadata": {
  "kernelspec": {
   "display_name": "Python 3",
   "language": "python",
   "name": "python3"
  },
  "language_info": {
   "codemirror_mode": {
    "name": "ipython",
    "version": 3
   },
   "file_extension": ".py",
   "mimetype": "text/x-python",
   "name": "python",
   "nbconvert_exporter": "python",
   "pygments_lexer": "ipython3",
   "version": "3.7.3"
  }
 },
 "nbformat": 4,
 "nbformat_minor": 2
}
